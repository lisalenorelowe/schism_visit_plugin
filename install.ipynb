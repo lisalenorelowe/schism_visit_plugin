{
 "cells": [
  {
   "cell_type": "code",
   "execution_count": 1,
   "id": "0bb123c2-48e4-4988-b848-f4924534d155",
   "metadata": {},
   "outputs": [
    {
     "name": "stdout",
     "output_type": "stream",
     "text": [
      "environment.yml  README.md  Untitled.ipynb\n"
     ]
    }
   ],
   "source": [
    "!ls"
   ]
  },
  {
   "cell_type": "code",
   "execution_count": 18,
   "id": "c41461ac-3802-467c-a441-0264539c001d",
   "metadata": {},
   "outputs": [],
   "source": [
    "#Do this in terminal\n",
    "#wget https://github.com/visit-dav/visit/releases/download/v3.3.2/visit3_3_2.linux-x86_64-ubuntu18.tar.gz\n",
    "#wget https://github.com/visit-dav/visit/releases/download/v3.3.2/visit-install3_3_2\n",
    "#chmod u+x visit-install3_3_2\n",
    "#./visit-install3_3_2 3.3.2 linux-x86_64-ubuntu18 visit"
   ]
  }
 ],
 "metadata": {
  "kernelspec": {
   "display_name": "Python 3 (ipykernel)",
   "language": "python",
   "name": "python3"
  },
  "language_info": {
   "codemirror_mode": {
    "name": "ipython",
    "version": 3
   },
   "file_extension": ".py",
   "mimetype": "text/x-python",
   "name": "python",
   "nbconvert_exporter": "python",
   "pygments_lexer": "ipython3",
   "version": "3.10.9"
  },
  "toc-autonumbering": true,
  "toc-showcode": true,
  "toc-showmarkdowntxt": false,
  "toc-showtags": true
 },
 "nbformat": 4,
 "nbformat_minor": 5
}
